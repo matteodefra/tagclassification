{
  "nbformat": 4,
  "nbformat_minor": 0,
  "metadata": {
    "colab": {
      "name": "neuralnetwork.ipynb",
      "provenance": [],
      "collapsed_sections": []
    },
    "kernelspec": {
      "name": "python3",
      "display_name": "Python 3"
    }
  },
  "cells": [
    {
      "cell_type": "markdown",
      "metadata": {
        "id": "MH2igCw8VBNR",
        "colab_type": "text"
      },
      "source": [
        "Importing libraries"
      ]
    },
    {
      "cell_type": "code",
      "metadata": {
        "id": "S3mzS5pjWGmX",
        "colab_type": "code",
        "colab": {
          "base_uri": "https://localhost:8080/",
          "height": 51
        },
        "outputId": "18f6c558-24fb-4a3c-992c-5797e76b6902"
      },
      "source": [
        "import numpy as np\n",
        "import pandas as pd\n",
        "import matplotlib.pyplot as plt\n",
        "import re\n",
        "\n",
        "np.random.seed(32)\n",
        "\n",
        "import nltk\n",
        "nltk.download('stopwords')\n",
        "from nltk.corpus import stopwords\n",
        "from sklearn.model_selection import train_test_split\n",
        "from sklearn.metrics import roc_auc_score\n",
        "from sklearn.manifold import TSNE\n",
        "\n",
        "from keras.preprocessing.text import Tokenizer\n",
        "from keras.preprocessing.sequence import pad_sequences\n",
        "from keras.layers import LSTM,Conv1D,MaxPooling1D,Dropout\n",
        "from keras.utils.np_utils import to_categorical"
      ],
      "execution_count": 1,
      "outputs": [
        {
          "output_type": "stream",
          "text": [
            "[nltk_data] Downloading package stopwords to /root/nltk_data...\n",
            "[nltk_data]   Unzipping corpora/stopwords.zip.\n"
          ],
          "name": "stdout"
        }
      ]
    },
    {
      "cell_type": "markdown",
      "metadata": {
        "id": "JRZG_MooVG4l",
        "colab_type": "text"
      },
      "source": [
        "Reading file and cleaning question body "
      ]
    },
    {
      "cell_type": "code",
      "metadata": {
        "id": "xRuTy4uVWmqX",
        "colab_type": "code",
        "colab": {}
      },
      "source": [
        "df = pd.read_csv('/content/drive/My Drive/BigQuestions.csv')\n",
        "\n",
        "##Uncomment the specific category you want to classify\n",
        "df = df[['Body','Tags']]\n",
        "# df = df[['Body','Tags2']]\n",
        "# df = df[['Body','Tags3']]\n",
        "\n",
        "def cleanhtml(raw_html):\n",
        "  cleanr = re.compile('<.*?>')\n",
        "  cleantext = re.sub(cleanr, '', raw_html)\n",
        "  return cleantext\n",
        "\n",
        "REPLACE_BY_SPACE_RE = re.compile('[/(){}\\[\\]\\|@,;]\\n\\t+')\n",
        "BAD_SYMBOLS_RE = re.compile('[^0-9a-z #+_]')\n",
        "STOPWORDS = set(stopwords.words('english'))\n",
        "\n",
        "\n",
        "def clean_text(text):\n",
        "  text = text.lower()\n",
        "  text = cleanhtml(text)\n",
        "  text = REPLACE_BY_SPACE_RE.sub(' ',text)\n",
        "  text = BAD_SYMBOLS_RE.sub('',text)\n",
        "  text = ' '.join(word for word in text.split() if word not in STOPWORDS)\n",
        "  return text\n",
        "\n",
        "df['Body'] = df['Body'].apply(lambda x: clean_text(x))\n"
      ],
      "execution_count": 3,
      "outputs": []
    },
    {
      "cell_type": "markdown",
      "metadata": {
        "id": "wusJS6TlVL3w",
        "colab_type": "text"
      },
      "source": [
        "Converting question body in sequences to feed to neural network"
      ]
    },
    {
      "cell_type": "code",
      "metadata": {
        "id": "yxxJLAeBZaRi",
        "colab_type": "code",
        "colab": {
          "base_uri": "https://localhost:8080/",
          "height": 51
        },
        "outputId": "0fee2c42-2e1e-4150-a682-26822761f6b2"
      },
      "source": [
        "#MAX_NB_WORDS high ==> higher accuracy (overfitting)\n",
        "#MAX_NB_WORDS low ==> lower accuracy (underfitting)\n",
        "#Hyperparameter\n",
        "MAX_NB_WORDS = 50000\n",
        "\n",
        "#Uncomment the previous selected category \n",
        "df = df[df['Tags'].notnull()]\n",
        "# df = df[df['Tags2'].notnull()]\n",
        "# df = df[df['Tags3'].notnull()]\n",
        "\n",
        "#Optional: removing category with low occurences\n",
        "# df.groupby('Tags').filter(lambda x: len(x) > 4)\n",
        "\n",
        "\n",
        "#Using Tokenizer for transformation\n",
        "text = df['Body']\n",
        "\n",
        "tokenizer = Tokenizer(num_words=MAX_NB_WORDS,char_level=False)\n",
        "tokenizer.fit_on_texts(text)\n",
        "sequences = tokenizer.texts_to_sequences(text)\n",
        "\n",
        "\n",
        "#Select target based on previous selected category\n",
        "\n",
        "target = pd.get_dummies(df['Tags']).values\n",
        "# target = pd.get_dummies(df['Tags2']).values\n",
        "# target = pd.get_dummies(df['Tags3']).values\n",
        "\n",
        "print(target.shape)\n",
        "\n",
        "word_index = tokenizer.word_index\n",
        "print('Found %s unique tokens.' % len(word_index))"
      ],
      "execution_count": 4,
      "outputs": [
        {
          "output_type": "stream",
          "text": [
            "(123175, 1223)\n",
            "Found 1266334 unique tokens.\n"
          ],
          "name": "stdout"
        }
      ]
    },
    {
      "cell_type": "markdown",
      "metadata": {
        "id": "k_CgW83BVllM",
        "colab_type": "text"
      },
      "source": [
        "Plotting some informations\n"
      ]
    },
    {
      "cell_type": "code",
      "metadata": {
        "id": "AAMPf9ZoaL7M",
        "colab_type": "code",
        "colab": {
          "base_uri": "https://localhost:8080/",
          "height": 935
        },
        "outputId": "9f513a5e-f734-45d7-dc96-344eb7066f0c"
      },
      "source": [
        "sequences[0]"
      ],
      "execution_count": 5,
      "outputs": [
        {
          "output_type": "execute_result",
          "data": {
            "text/plain": [
              "[9,\n",
              " 1054,\n",
              " 2659,\n",
              " 100,\n",
              " 374,\n",
              " 1577,\n",
              " 4909,\n",
              " 31911,\n",
              " 5924,\n",
              " 12266,\n",
              " 5924,\n",
              " 13706,\n",
              " 14309,\n",
              " 25488,\n",
              " 7092,\n",
              " 6254,\n",
              " 3388,\n",
              " 100,\n",
              " 1149,\n",
              " 85,\n",
              " 28,\n",
              " 660,\n",
              " 619,\n",
              " 1,\n",
              " 4,\n",
              " 619,\n",
              " 660,\n",
              " 2085,\n",
              " 660,\n",
              " 619,\n",
              " 4,\n",
              " 619,\n",
              " 7,\n",
              " 55,\n",
              " 4,\n",
              " 11,\n",
              " 28,\n",
              " 695,\n",
              " 43952,\n",
              " 11,\n",
              " 7729,\n",
              " 1129,\n",
              " 4,\n",
              " 619,\n",
              " 4,\n",
              " 62,\n",
              " 40,\n",
              " 660,\n",
              " 619,\n",
              " 630,\n",
              " 62,\n",
              " 40,\n",
              " 24324,\n",
              " 391]"
            ]
          },
          "metadata": {
            "tags": []
          },
          "execution_count": 5
        }
      ]
    },
    {
      "cell_type": "code",
      "metadata": {
        "id": "ac6LAMA_aPLO",
        "colab_type": "code",
        "colab": {
          "base_uri": "https://localhost:8080/",
          "height": 34
        },
        "outputId": "26452534-6940-488c-dfc6-e0b81a27a52c"
      },
      "source": [
        "type(tokenizer.word_index),len(tokenizer.word_index)"
      ],
      "execution_count": 6,
      "outputs": [
        {
          "output_type": "execute_result",
          "data": {
            "text/plain": [
              "(dict, 1266334)"
            ]
          },
          "metadata": {
            "tags": []
          },
          "execution_count": 6
        }
      ]
    },
    {
      "cell_type": "code",
      "metadata": {
        "id": "LKvr2VZ9aUKD",
        "colab_type": "code",
        "colab": {}
      },
      "source": [
        "index_to_word = dict((i,w) for w, i in tokenizer.word_index.items())"
      ],
      "execution_count": 7,
      "outputs": []
    },
    {
      "cell_type": "code",
      "metadata": {
        "id": "J67Ad6dxaZ62",
        "colab_type": "code",
        "colab": {
          "base_uri": "https://localhost:8080/",
          "height": 52
        },
        "outputId": "39ee01b6-526a-4b5a-b354-f7da613041ec"
      },
      "source": [
        "' '.join([index_to_word[i] for i in sequences[0]])"
      ],
      "execution_count": 8,
      "outputs": [
        {
          "output_type": "execute_result",
          "data": {
            "application/vnd.google.colaboratory.intrinsic+json": {
              "type": "string"
            },
            "text/plain": [
              "'want calculate percentage change either increase decrease listhere 203 305 203 455 506 295 134 codedef percent change in try value old num gt new num old elif old num new num 0 else new return value except zerodivisionerror return 0how assign new num new number list old num previous number list abovethanks advance'"
            ]
          },
          "metadata": {
            "tags": []
          },
          "execution_count": 8
        }
      ]
    },
    {
      "cell_type": "code",
      "metadata": {
        "id": "O71AT3Jna6CG",
        "colab_type": "code",
        "colab": {
          "base_uri": "https://localhost:8080/",
          "height": 51
        },
        "outputId": "1efbf969-067f-4649-b076-90ff4ea8b8e9"
      },
      "source": [
        "seq_lens = [len(s) for s in sequences]\n",
        "print('average length: %0.1f' % np.mean(seq_lens))\n",
        "print('max length: %d' % max(seq_lens))"
      ],
      "execution_count": 9,
      "outputs": [
        {
          "output_type": "stream",
          "text": [
            "average length: 68.1\n",
            "max length: 2902\n"
          ],
          "name": "stdout"
        }
      ]
    },
    {
      "cell_type": "code",
      "metadata": {
        "id": "AnkiA4PXbI-y",
        "colab_type": "code",
        "colab": {
          "base_uri": "https://localhost:8080/",
          "height": 265
        },
        "outputId": "8f6f74f9-4361-446c-faa2-515ab2616937"
      },
      "source": [
        "%matplotlib inline\n",
        "import matplotlib.pyplot as plt\n",
        "\n",
        "plt.hist(seq_lens, bins=50);"
      ],
      "execution_count": 10,
      "outputs": [
        {
          "output_type": "display_data",
          "data": {
            "image/png": "[encoded data removed]",
            "text/plain": [
              "<Figure size 432x288 with 1 Axes>"
            ]
          },
          "metadata": {
            "tags": [],
            "needs_background": "light"
          }
        }
      ]
    },
    {
      "cell_type": "code",
      "metadata": {
        "id": "h3iyrFEVbLqw",
        "colab_type": "code",
        "colab": {
          "base_uri": "https://localhost:8080/",
          "height": 265
        },
        "outputId": "8dcb6df1-754c-4558-8f90-e29f169cc04e"
      },
      "source": [
        "plt.hist([l for l in seq_lens if l < 200], bins=50);"
      ],
      "execution_count": 11,
      "outputs": [
        {
          "output_type": "display_data",
          "data": {
            "image/png": "[encoded data removed]",
            "text/plain": [
              "<Figure size 432x288 with 1 Axes>"
            ]
          },
          "metadata": {
            "tags": [],
            "needs_background": "light"
          }
        }
      ]
    },
    {
      "cell_type": "code",
      "metadata": {
        "id": "e3IkHR8sk7b1",
        "colab_type": "code",
        "colab": {
          "base_uri": "https://localhost:8080/",
          "height": 238
        },
        "outputId": "1affec38-e296-4afe-cc91-57f7cb5898a8"
      },
      "source": [
        "print(df.shape)\n",
        "\n",
        "df['Tags'].value_counts()"
      ],
      "execution_count": 13,
      "outputs": [
        {
          "output_type": "stream",
          "text": [
            "(123175, 2)\n"
          ],
          "name": "stdout"
        },
        {
          "output_type": "execute_result",
          "data": {
            "text/plain": [
              "javascript         18507\n",
              "java               15720\n",
              "c#                 11141\n",
              "python             10657\n",
              "php                 7899\n",
              "                   ...  \n",
              "j                      1\n",
              "retro-computing        1\n",
              "jndi                   1\n",
              "ria                    1\n",
              "primes                 1\n",
              "Name: Tags, Length: 1223, dtype: int64"
            ]
          },
          "metadata": {
            "tags": []
          },
          "execution_count": 13
        }
      ]
    },
    {
      "cell_type": "code",
      "metadata": {
        "id": "sR_dPd1yOLMD",
        "colab_type": "code",
        "colab": {}
      },
      "source": [
        "df2 = df['Tags'].value_counts().rename_axis('unique_values').reset_index(name='counts')"
      ],
      "execution_count": null,
      "outputs": []
    },
    {
      "cell_type": "markdown",
      "metadata": {
        "id": "KfypN6FsVp7d",
        "colab_type": "text"
      },
      "source": [
        "Application of pad_sequences"
      ]
    },
    {
      "cell_type": "code",
      "metadata": {
        "id": "HMBGE6_cbOeZ",
        "colab_type": "code",
        "colab": {
          "base_uri": "https://localhost:8080/",
          "height": 34
        },
        "outputId": "9bb8c7dd-1da9-4ca3-e80b-087446891589"
      },
      "source": [
        "#Hyperparameter\n",
        "MAX_SEQUENCE_LENGTH = 200\n",
        "\n",
        "# pad sequences with 0s\n",
        "text = pad_sequences(sequences, maxlen=MAX_SEQUENCE_LENGTH)\n",
        "\n",
        "print(text.shape)"
      ],
      "execution_count": 14,
      "outputs": [
        {
          "output_type": "stream",
          "text": [
            "(123175, 200)\n"
          ],
          "name": "stdout"
        }
      ]
    },
    {
      "cell_type": "markdown",
      "metadata": {
        "id": "BtOCI-B-QJ7a",
        "colab_type": "text"
      },
      "source": [
        "Splitting data in training and testing sets"
      ]
    },
    {
      "cell_type": "code",
      "metadata": {
        "id": "DGO2Bp_2ZIwH",
        "colab_type": "code",
        "colab": {
          "base_uri": "https://localhost:8080/",
          "height": 51
        },
        "outputId": "4e420dcb-3f76-4f98-99bc-99e3caf50476"
      },
      "source": [
        "X_train, X_test, y_train, y_test = train_test_split(text,target,test_size = 0.33)\n",
        "\n",
        "print(X_train.shape)\n",
        "print(y_train.shape)"
      ],
      "execution_count": 15,
      "outputs": [
        {
          "output_type": "stream",
          "text": [
            "(82527, 200)\n",
            "(82527, 1223)\n"
          ],
          "name": "stdout"
        }
      ]
    },
    {
      "cell_type": "markdown",
      "metadata": {
        "id": "cP4AQJN8V59u",
        "colab_type": "text"
      },
      "source": [
        "\n",
        "Neural network 1: uses a simple Embedding level to take sequences as input and simple level of selection"
      ]
    },
    {
      "cell_type": "code",
      "metadata": {
        "id": "2nNRyT5-bY8n",
        "colab_type": "code",
        "colab": {}
      },
      "source": [
        "from keras.layers import Dense,Input,Flatten\n",
        "from keras.layers import GlobalAveragePooling1D,Embedding\n",
        "from keras.models import Model\n",
        "\n",
        "#Hyperparameter\n",
        "EMBEDDING_DIM = 75\n",
        "\n",
        "#Select N_CLASSES based on previous selection\n",
        "# N_CLASSES = df['Tags'].nunique()\n",
        "# N_CLASSES = df['Tags2'].nunique()\n",
        "# N_CLASSES = df['Tags3'].nunique()\n",
        "print(N_CLASSES)\n",
        "\n",
        "\n",
        "sequence_input = Input(shape=(MAX_SEQUENCE_LENGTH,),dtype='int32')\n",
        "\n",
        "embedding_layer = Embedding(MAX_NB_WORDS,EMBEDDING_DIM,\n",
        "                            input_length=MAX_SEQUENCE_LENGTH,\n",
        "                            trainable=True)\n",
        "\n",
        "embedded_sequences = embedding_layer(sequence_input)\n",
        "\n",
        "average = GlobalAveragePooling1D()(embedded_sequences)\n",
        "predictions = Dense(N_CLASSES,activation='softmax')(average)\n",
        "\n",
        "model = Model(sequence_input,predictions)\n",
        "model.compile(loss='categorical_crossentropy',\n",
        "              optimizer='adam',metrics=['acc'])\n",
        "\n",
        "\n",
        "print(model.summary())"
      ],
      "execution_count": null,
      "outputs": []
    },
    {
      "cell_type": "code",
      "metadata": {
        "id": "bMmgO7Foc7FL",
        "colab_type": "code",
        "colab": {}
      },
      "source": [
        "#Change hyperparameter of epochs and batch_size based on results\n",
        "\n",
        "history = model.fit(X_train,y_train,validation_split=0.1,\n",
        "          epochs=10,batch_size=128)"
      ],
      "execution_count": null,
      "outputs": []
    },
    {
      "cell_type": "markdown",
      "metadata": {
        "id": "fi3VhjnrhkTE",
        "colab_type": "text"
      },
      "source": [
        "Neural network 2: uses LSTM level"
      ]
    },
    {
      "cell_type": "code",
      "metadata": {
        "id": "5rBN14CYhoIc",
        "colab_type": "code",
        "colab": {}
      },
      "source": [
        "from keras.layers import Dense,Input,Flatten\n",
        "from keras.layers import GlobalAveragePooling1D,Embedding\n",
        "from keras.models import Model\n",
        "\n",
        "#Hyperparameter\n",
        "EMBEDDING_DIM = 75\n",
        "\n",
        "#Select N_CLASSES based on previous selection\n",
        "# N_CLASSES = df['Tags'].nunique()\n",
        "# N_CLASSES = df['Tags2'].nunique()\n",
        "# N_CLASSES = df['Tags3'].nunique()\n",
        "print(N_CLASSES)\n",
        "\n",
        "sequence_input = Input(shape=(MAX_SEQUENCE_LENGTH,), dtype='int32')\n",
        "embedding_layer = Embedding(MAX_NB_WORDS,EMBEDDING_DIM,\n",
        "                            input_length=MAX_SEQUENCE_LENGTH,\n",
        "                            trainable=True)\n",
        "embedded_sequences = embedding_layer(sequence_input)\n",
        "\n",
        "x = LSTM(128, dropout=0.2, recurrent_dropout=0.2)(embedded_sequences)\n",
        "predictions = Dense(N_CLASSES, activation='softmax')(x)\n",
        "\n",
        "\n",
        "model = Model(sequence_input, predictions)\n",
        "model.compile(loss='categorical_crossentropy',\n",
        "              optimizer='adam',\n",
        "              metrics=['acc'])\n",
        "\n",
        "print(model.summary())"
      ],
      "execution_count": null,
      "outputs": []
    },
    {
      "cell_type": "code",
      "metadata": {
        "id": "x2H5WHMhhtTy",
        "colab_type": "code",
        "colab": {}
      },
      "source": [
        "#Change hyperparameter of epochs and batch_size based on results\n",
        "\n",
        "history = model.fit(X_train, y_train, validation_split=0.1,\n",
        "          epochs=10, batch_size=128)"
      ],
      "execution_count": null,
      "outputs": []
    },
    {
      "cell_type": "code",
      "metadata": {
        "id": "zPs-Tx1RggqM",
        "colab_type": "code",
        "colab": {}
      },
      "source": [
        "accr = model.evaluate(X_test,y_test)\n",
        "print('Test set\\n  Loss: {:0.3f}\\n  Accuracy: {:0.3f}'.format(accr[0],accr[1]))"
      ],
      "execution_count": null,
      "outputs": []
    },
    {
      "cell_type": "markdown",
      "metadata": {
        "id": "W9vdx71X0Aes",
        "colab_type": "text"
      },
      "source": [
        "Best neural network: uses both CNN and LSTM level for maximum learning\n"
      ]
    },
    {
      "cell_type": "code",
      "metadata": {
        "id": "mcuiuVDK0BbN",
        "colab_type": "code",
        "colab": {
          "base_uri": "https://localhost:8080/",
          "height": 527
        },
        "outputId": "ee459261-4dac-4c14-9763-23596847140c"
      },
      "source": [
        "from keras.layers import Dense,Input,Flatten\n",
        "from keras.layers import GlobalAveragePooling1D,Embedding\n",
        "from keras.models import Model\n",
        "from keras.callbacks import EarlyStopping\n",
        "\n",
        "#Hyperparameter\n",
        "EMBEDDING_DIM = 70\n",
        "\n",
        "#Select N_CLASSES based on previous selection\n",
        "N_CLASSES = df['Tags'].nunique()\n",
        "# N_CLASSES = df['Tags2'].nunique()\n",
        "# N_CLASSES = df['Tags3'].nunique()\n",
        "print(N_CLASSES)\n",
        "\n",
        "# input: a sequence of MAX_SEQUENCE_LENGTH integers\n",
        "sequence_input = Input(shape=(MAX_SEQUENCE_LENGTH,), dtype='int32')\n",
        "embedding_layer = Embedding(MAX_NB_WORDS,EMBEDDING_DIM,\n",
        "                            input_length=MAX_SEQUENCE_LENGTH,\n",
        "                            trainable=True)\n",
        "embedded_sequences = embedding_layer(sequence_input)\n",
        "\n",
        "# 1D convolution with 64 output channels\n",
        "x = Conv1D(64, 5)(embedded_sequences)\n",
        "# MaxPool divides the length of the sequence by 5\n",
        "x = MaxPooling1D(5)(x)\n",
        "x = Dropout(0.2)(x)\n",
        "x = Conv1D(64, 5)(x)\n",
        "x = MaxPooling1D(5)(x)\n",
        "# LSTM layer with a hidden size of 64\n",
        "x = Dropout(0.2)(x)\n",
        "x = LSTM(64)(x)\n",
        "predictions = Dense(N_CLASSES, activation='softmax')(x)\n",
        "\n",
        "model = Model(sequence_input, predictions)\n",
        "model.compile(loss='categorical_crossentropy',\n",
        "              optimizer='adam',\n",
        "              metrics=['acc'])\n",
        "\n",
        "print(model.summary())"
      ],
      "execution_count": 16,
      "outputs": [
        {
          "output_type": "stream",
          "text": [
            "1223\n",
            "Model: \"functional_1\"\n",
            "_________________________________________________________________\n",
            "Layer (type)                 Output Shape              Param #   \n",
            "=================================================================\n",
            "input_1 (InputLayer)         [(None, 200)]             0         \n",
            "_________________________________________________________________\n",
            "embedding (Embedding)        (None, 200, 70)           3500000   \n",
            "_________________________________________________________________\n",
            "conv1d (Conv1D)              (None, 196, 64)           22464     \n",
            "_________________________________________________________________\n",
            "max_pooling1d (MaxPooling1D) (None, 39, 64)            0         \n",
            "_________________________________________________________________\n",
            "dropout (Dropout)            (None, 39, 64)            0         \n",
            "_________________________________________________________________\n",
            "conv1d_1 (Conv1D)            (None, 35, 64)            20544     \n",
            "_________________________________________________________________\n",
            "max_pooling1d_1 (MaxPooling1 (None, 7, 64)             0         \n",
            "_________________________________________________________________\n",
            "dropout_1 (Dropout)          (None, 7, 64)             0         \n",
            "_________________________________________________________________\n",
            "lstm (LSTM)                  (None, 64)                33024     \n",
            "_________________________________________________________________\n",
            "dense (Dense)                (None, 1223)              79495     \n",
            "=================================================================\n",
            "Total params: 3,655,527\n",
            "Trainable params: 3,655,527\n",
            "Non-trainable params: 0\n",
            "_________________________________________________________________\n",
            "None\n"
          ],
          "name": "stdout"
        }
      ]
    },
    {
      "cell_type": "code",
      "metadata": {
        "id": "k_VLXGNw0ITm",
        "colab_type": "code",
        "colab": {
          "base_uri": "https://localhost:8080/",
          "height": 255
        },
        "outputId": "6e94ad82-5a12-48cd-cc0a-a529f276d3f9"
      },
      "source": [
        "from keras.callbacks import EarlyStopping\n",
        "\n",
        "#Hyperparameters\n",
        "EPOCHS = 10\n",
        "BATCH_SIZE = 128\n",
        "\n",
        "history = model.fit(X_train, y_train, validation_split=0.1,\n",
        "          epochs=EPOCHS, batch_size=BATCH_SIZE,\n",
        "          callbacks=[\n",
        "              EarlyStopping(monitor='val_loss',\n",
        "                            min_delta=0.1,\n",
        "                            patience=2,\n",
        "                            verbose=0, \n",
        "                            mode='auto')\n",
        "          ])"
      ],
      "execution_count": 17,
      "outputs": [
        {
          "output_type": "stream",
          "text": [
            "Epoch 1/10\n",
            "581/581 [==============================] - 101s 174ms/step - loss: 3.6402 - acc: 0.1423 - val_loss: 3.5000 - val_acc: 0.1515\n",
            "Epoch 2/10\n",
            "581/581 [==============================] - 100s 173ms/step - loss: 3.3550 - acc: 0.1803 - val_loss: 3.1177 - val_acc: 0.2692\n",
            "Epoch 3/10\n",
            "581/581 [==============================] - 101s 173ms/step - loss: 2.7395 - acc: 0.3524 - val_loss: 2.5332 - val_acc: 0.4223\n",
            "Epoch 4/10\n",
            "581/581 [==============================] - 101s 173ms/step - loss: 2.2689 - acc: 0.4873 - val_loss: 2.2998 - val_acc: 0.4973\n",
            "Epoch 5/10\n",
            "581/581 [==============================] - 101s 173ms/step - loss: 1.9401 - acc: 0.5731 - val_loss: 2.1786 - val_acc: 0.5301\n",
            "Epoch 6/10\n",
            "581/581 [==============================] - 100s 173ms/step - loss: 1.7085 - acc: 0.6253 - val_loss: 2.1315 - val_acc: 0.5477\n",
            "Epoch 7/10\n",
            "581/581 [==============================] - 100s 172ms/step - loss: 1.5282 - acc: 0.6619 - val_loss: 2.1648 - val_acc: 0.5445\n"
          ],
          "name": "stdout"
        }
      ]
    },
    {
      "cell_type": "code",
      "metadata": {
        "id": "UUKkrqcprc9t",
        "colab_type": "code",
        "colab": {
          "base_uri": "https://localhost:8080/",
          "height": 1000
        },
        "outputId": "2793a517-7fd4-4b3a-9892-ad5721d1a2b5"
      },
      "source": [
        "from keras.utils import plot_model\n",
        "plot_model(model, to_file='model_plot3.png', show_shapes=True, show_layer_names=True)\n"
      ],
      "execution_count": 18,
      "outputs": [
        {
          "output_type": "execute_result",
          "data": {
            "image/png": "[encoded data removed]",
            "text/plain": [
              "<IPython.core.display.Image object>"
            ]
          },
          "metadata": {
            "tags": []
          },
          "execution_count": 18
        }
      ]
    },
    {
      "cell_type": "markdown",
      "metadata": {
        "id": "9sl1vYUNRgHg",
        "colab_type": "text"
      },
      "source": [
        "Evaluation on test set with top 8 categories predicted "
      ]
    },
    {
      "cell_type": "code",
      "metadata": {
        "id": "tANs3IKJ1uk_",
        "colab_type": "code",
        "colab": {
          "base_uri": "https://localhost:8080/",
          "height": 68
        },
        "outputId": "34c4ee43-f810-4071-ae27-7580135a02b8"
      },
      "source": [
        "output_test = model.evaluate(X_test,y_test)\n",
        "print(output_test)\n",
        "\n",
        "predict_probabilities = model.predict(X_test)\n",
        "\n",
        "my_accuracy = 0\n",
        "\n",
        "#Utilizzando i top 8 risultati\n",
        "for target,array in zip(y_test,predict_probabilities):\n",
        "  ind = np.argpartition(array, -8)[-8:]\n",
        "  real_target = np.argmax(target)\n",
        "  if real_target in ind:\n",
        "    my_accuracy = my_accuracy + 1\n",
        "\n",
        "\n",
        "print(my_accuracy/y_test.shape[0])"
      ],
      "execution_count": 19,
      "outputs": [
        {
          "output_type": "stream",
          "text": [
            "1271/1271 [==============================] - 15s 12ms/step - loss: 2.1478 - acc: 0.5452\n",
            "[2.1477792263031006, 0.5452174544334412]\n",
            "0.8335711474119268\n"
          ],
          "name": "stdout"
        }
      ]
    },
    {
      "cell_type": "markdown",
      "metadata": {
        "id": "2kOppIMPRoHw",
        "colab_type": "text"
      },
      "source": [
        "Plotting learning graphics"
      ]
    },
    {
      "cell_type": "code",
      "metadata": {
        "id": "v3bETqVuTF_Q",
        "colab_type": "code",
        "colab": {
          "base_uri": "https://localhost:8080/",
          "height": 545
        },
        "outputId": "e87650ac-60fb-4220-a92c-2228367c5638"
      },
      "source": [
        "plt.title('Loss')\n",
        "plt.plot(history.history['loss'], label='train')\n",
        "plt.plot(history.history['val_loss'], label='validation')\n",
        "plt.legend()\n",
        "plt.show();\n",
        "\n",
        "\n",
        "plt.title('Accuracy')\n",
        "plt.plot(history.history['acc'], label='train')\n",
        "plt.plot(history.history['val_acc'], label='validation')\n",
        "plt.legend()\n",
        "plt.show();"
      ],
      "execution_count": 20,
      "outputs": [
        {
          "output_type": "display_data",
          "data": {
            "image/png": "[encoded data removed]",
            "text/plain": [
              "<Figure size 432x288 with 1 Axes>"
            ]
          },
          "metadata": {
            "tags": [],
            "needs_background": "light"
          }
        },
        {
          "output_type": "display_data",
          "data": {
            "image/png": "[encoded data removed]",
            "text/plain": [
              "<Figure size 432x288 with 1 Axes>"
            ]
          },
          "metadata": {
            "tags": [],
            "needs_background": "light"
          }
        }
      ]
    }
  ]
}